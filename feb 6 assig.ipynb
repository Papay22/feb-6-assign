{
 "cells": [
  {
   "cell_type": "code",
   "execution_count": null,
   "id": "d91b65e5-e464-40a2-a7f2-bd61b851296e",
   "metadata": {},
   "outputs": [],
   "source": [
    "def product_list(list1):\n",
    "\n",
    "flat_list =\n",
    "\n",
    "for item in list1:\n",
    "\n",
    "if type(item) == int or type(item) == float:\n",
    "\n",
    "flat_list.append(item)\n",
    "\n",
    "elif type(item) == tuple or type(item) == list:\n",
    "\n",
    "for num in item:\n",
    "\n",
    "flat_list.append(num)\n",
    "\n",
    "elif type(item) == dict:\n",
    "\n",
    "for key, value in item.items():\n",
    "\n",
    "if type(key) == int or type(key) == float:\n",
    "\n",
    "flat_list.append(key)\n",
    "\n",
    "if type(value) == int or type(value) == float:\n",
    "\n",
    "flat_list.append(value)\n",
    "\n",
    "elif type(value) == tuple or type(value) == list:\n",
    "\n",
    "for num in value:\n",
    "\n",
    "flat_list.append(num)\n",
    "\n",
    "\n",
    "list1 = 1,2,3,4, 44,55,66, True, False, (34,56,78,89,34), {1,2,3,3,2,1}, {1:34, \"key2\": 55, 67, 78, 89, 4: (45, 22, 61, 34)}, 56, 'data science', 'Machine Learning'\n",
    "\n",
    "\n",
    "print(\"Product of all the numbers in the given list is\", product_list(list1)))"
   ]
  },
  {
   "cell_type": "code",
   "execution_count": null,
   "id": "76936b57-8afd-4dcf-83e7-6e6782362309",
   "metadata": {},
   "outputs": [],
   "source": [
    "Input Sentence: i want to become a data scientist.\n",
    "\n",
    "\n",
    "Output Sentence: $wznt$tobecome$adatscientist."
   ]
  }
 ],
 "metadata": {
  "kernelspec": {
   "display_name": "Python 3 (ipykernel)",
   "language": "python",
   "name": "python3"
  },
  "language_info": {
   "codemirror_mode": {
    "name": "ipython",
    "version": 3
   },
   "file_extension": ".py",
   "mimetype": "text/x-python",
   "name": "python",
   "nbconvert_exporter": "python",
   "pygments_lexer": "ipython3",
   "version": "3.10.8"
  }
 },
 "nbformat": 4,
 "nbformat_minor": 5
}
